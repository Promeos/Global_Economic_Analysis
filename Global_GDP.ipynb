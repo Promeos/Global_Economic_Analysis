{
 "cells": [
  {
   "cell_type": "markdown",
   "id": "0e3197bd",
   "metadata": {},
   "source": [
    "#  Annual GPD by Country"
   ]
  },
  {
   "cell_type": "code",
   "execution_count": 1,
   "id": "1fe01cfb",
   "metadata": {},
   "outputs": [],
   "source": [
    "import pandas as pd\n",
    "import numpy as np\n",
    "import plotly.express as px\n",
    "\n",
    "pd.set_option('display.max_rows', 500)"
   ]
  },
  {
   "cell_type": "markdown",
   "id": "9a9ec1f3",
   "metadata": {},
   "source": [
    "# Acquire"
   ]
  },
  {
   "cell_type": "code",
   "execution_count": 2,
   "id": "37660318",
   "metadata": {
    "scrolled": false
   },
   "outputs": [],
   "source": [
    "# Read in data up to row index 216, country groups start at 217\n",
    "data = pd.read_csv('./data/gdp/gdp_by_country.csv'\n",
    "                ,nrows=216)\n",
    "\n",
    "data = data.drop(columns=['Series Name', 'Series Code', 'Country Code'])"
   ]
  },
  {
   "cell_type": "code",
   "execution_count": 3,
   "id": "f176fdc5",
   "metadata": {},
   "outputs": [
    {
     "data": {
      "text/html": [
       "<div>\n",
       "<style scoped>\n",
       "    .dataframe tbody tr th:only-of-type {\n",
       "        vertical-align: middle;\n",
       "    }\n",
       "\n",
       "    .dataframe tbody tr th {\n",
       "        vertical-align: top;\n",
       "    }\n",
       "\n",
       "    .dataframe thead th {\n",
       "        text-align: right;\n",
       "    }\n",
       "</style>\n",
       "<table border=\"1\" class=\"dataframe\">\n",
       "  <thead>\n",
       "    <tr style=\"text-align: right;\">\n",
       "      <th></th>\n",
       "      <th>Country Name</th>\n",
       "      <th>1990 [YR1990]</th>\n",
       "      <th>2000 [YR2000]</th>\n",
       "      <th>2011 [YR2011]</th>\n",
       "      <th>2012 [YR2012]</th>\n",
       "      <th>2013 [YR2013]</th>\n",
       "      <th>2014 [YR2014]</th>\n",
       "      <th>2015 [YR2015]</th>\n",
       "      <th>2016 [YR2016]</th>\n",
       "      <th>2017 [YR2017]</th>\n",
       "      <th>2018 [YR2018]</th>\n",
       "      <th>2019 [YR2019]</th>\n",
       "      <th>2020 [YR2020]</th>\n",
       "    </tr>\n",
       "  </thead>\n",
       "  <tbody>\n",
       "    <tr>\n",
       "      <th>0</th>\n",
       "      <td>Afghanistan</td>\n",
       "      <td>..</td>\n",
       "      <td>..</td>\n",
       "      <td>17804292964.1045</td>\n",
       "      <td>20001598505.7042</td>\n",
       "      <td>20561069558.2152</td>\n",
       "      <td>20484885119.7348</td>\n",
       "      <td>19907111418.9938</td>\n",
       "      <td>18017749073.6362</td>\n",
       "      <td>18869945678.4215</td>\n",
       "      <td>18353881129.5246</td>\n",
       "      <td>19291104007.6135</td>\n",
       "      <td>19807067268.1084</td>\n",
       "    </tr>\n",
       "    <tr>\n",
       "      <th>1</th>\n",
       "      <td>Albania</td>\n",
       "      <td>2028553750</td>\n",
       "      <td>3480355188.60063</td>\n",
       "      <td>12890765324.2256</td>\n",
       "      <td>12319830252.4768</td>\n",
       "      <td>12776217194.7928</td>\n",
       "      <td>13228144008.3428</td>\n",
       "      <td>11386846319.1589</td>\n",
       "      <td>11861200797.4706</td>\n",
       "      <td>13019693450.8816</td>\n",
       "      <td>15147020535.3869</td>\n",
       "      <td>15286612572.6895</td>\n",
       "      <td>14799615097.1008</td>\n",
       "    </tr>\n",
       "    <tr>\n",
       "      <th>2</th>\n",
       "      <td>Algeria</td>\n",
       "      <td>62048562947.2509</td>\n",
       "      <td>54790379458.8877</td>\n",
       "      <td>200013038488.906</td>\n",
       "      <td>209058991952.125</td>\n",
       "      <td>209755003250.664</td>\n",
       "      <td>213810023703.446</td>\n",
       "      <td>165979173991.026</td>\n",
       "      <td>160034162957.738</td>\n",
       "      <td>170097230857.956</td>\n",
       "      <td>175414987760.927</td>\n",
       "      <td>171157803367.473</td>\n",
       "      <td>145163902228.168</td>\n",
       "    </tr>\n",
       "    <tr>\n",
       "      <th>3</th>\n",
       "      <td>American Samoa</td>\n",
       "      <td>..</td>\n",
       "      <td>..</td>\n",
       "      <td>570000000</td>\n",
       "      <td>640000000</td>\n",
       "      <td>638000000</td>\n",
       "      <td>643000000</td>\n",
       "      <td>673000000</td>\n",
       "      <td>671000000</td>\n",
       "      <td>612000000</td>\n",
       "      <td>641000000</td>\n",
       "      <td>638000000</td>\n",
       "      <td>..</td>\n",
       "    </tr>\n",
       "    <tr>\n",
       "      <th>4</th>\n",
       "      <td>Andorra</td>\n",
       "      <td>1029048481.88051</td>\n",
       "      <td>1429049198.45218</td>\n",
       "      <td>3629203786.19154</td>\n",
       "      <td>3188808942.56713</td>\n",
       "      <td>3193704343.20627</td>\n",
       "      <td>3271808157.30038</td>\n",
       "      <td>2789870187.50693</td>\n",
       "      <td>2896679211.86628</td>\n",
       "      <td>3000180750.11297</td>\n",
       "      <td>3218316013.22626</td>\n",
       "      <td>3155065487.51819</td>\n",
       "      <td>..</td>\n",
       "    </tr>\n",
       "  </tbody>\n",
       "</table>\n",
       "</div>"
      ],
      "text/plain": [
       "     Country Name     1990 [YR1990]     2000 [YR2000]     2011 [YR2011]  \\\n",
       "0     Afghanistan                ..                ..  17804292964.1045   \n",
       "1         Albania        2028553750  3480355188.60063  12890765324.2256   \n",
       "2         Algeria  62048562947.2509  54790379458.8877  200013038488.906   \n",
       "3  American Samoa                ..                ..         570000000   \n",
       "4         Andorra  1029048481.88051  1429049198.45218  3629203786.19154   \n",
       "\n",
       "      2012 [YR2012]     2013 [YR2013]     2014 [YR2014]     2015 [YR2015]  \\\n",
       "0  20001598505.7042  20561069558.2152  20484885119.7348  19907111418.9938   \n",
       "1  12319830252.4768  12776217194.7928  13228144008.3428  11386846319.1589   \n",
       "2  209058991952.125  209755003250.664  213810023703.446  165979173991.026   \n",
       "3         640000000         638000000         643000000         673000000   \n",
       "4  3188808942.56713  3193704343.20627  3271808157.30038  2789870187.50693   \n",
       "\n",
       "      2016 [YR2016]     2017 [YR2017]     2018 [YR2018]     2019 [YR2019]  \\\n",
       "0  18017749073.6362  18869945678.4215  18353881129.5246  19291104007.6135   \n",
       "1  11861200797.4706  13019693450.8816  15147020535.3869  15286612572.6895   \n",
       "2  160034162957.738  170097230857.956  175414987760.927  171157803367.473   \n",
       "3         671000000         612000000         641000000         638000000   \n",
       "4  2896679211.86628  3000180750.11297  3218316013.22626  3155065487.51819   \n",
       "\n",
       "      2020 [YR2020]  \n",
       "0  19807067268.1084  \n",
       "1  14799615097.1008  \n",
       "2  145163902228.168  \n",
       "3                ..  \n",
       "4                ..  "
      ]
     },
     "execution_count": 3,
     "metadata": {},
     "output_type": "execute_result"
    }
   ],
   "source": [
    "data.head()"
   ]
  },
  {
   "cell_type": "code",
   "execution_count": 4,
   "id": "27fcdc6d",
   "metadata": {},
   "outputs": [
    {
     "name": "stdout",
     "output_type": "stream",
     "text": [
      "<class 'pandas.core.frame.DataFrame'>\n",
      "RangeIndex: 216 entries, 0 to 215\n",
      "Data columns (total 13 columns):\n",
      " #   Column         Non-Null Count  Dtype \n",
      "---  ------         --------------  ----- \n",
      " 0   Country Name   216 non-null    object\n",
      " 1   1990 [YR1990]  216 non-null    object\n",
      " 2   2000 [YR2000]  216 non-null    object\n",
      " 3   2011 [YR2011]  216 non-null    object\n",
      " 4   2012 [YR2012]  216 non-null    object\n",
      " 5   2013 [YR2013]  216 non-null    object\n",
      " 6   2014 [YR2014]  216 non-null    object\n",
      " 7   2015 [YR2015]  216 non-null    object\n",
      " 8   2016 [YR2016]  216 non-null    object\n",
      " 9   2017 [YR2017]  216 non-null    object\n",
      " 10  2018 [YR2018]  216 non-null    object\n",
      " 11  2019 [YR2019]  216 non-null    object\n",
      " 12  2020 [YR2020]  216 non-null    object\n",
      "dtypes: object(13)\n",
      "memory usage: 22.1+ KB\n"
     ]
    }
   ],
   "source": [
    "data.info()"
   ]
  },
  {
   "cell_type": "code",
   "execution_count": 5,
   "id": "b6ba812d",
   "metadata": {},
   "outputs": [],
   "source": [
    "country_names = data.iloc[:,[0]]\n",
    "gpd = data[data.columns[1:]].replace('..', 0)\n",
    "\n",
    "# df = country_names, gpd"
   ]
  }
 ],
 "metadata": {
  "kernelspec": {
   "display_name": "Python 3 (ipykernel)",
   "language": "python",
   "name": "python3"
  },
  "language_info": {
   "codemirror_mode": {
    "name": "ipython",
    "version": 3
   },
   "file_extension": ".py",
   "mimetype": "text/x-python",
   "name": "python",
   "nbconvert_exporter": "python",
   "pygments_lexer": "ipython3",
   "version": "3.9.7"
  }
 },
 "nbformat": 4,
 "nbformat_minor": 5
}
